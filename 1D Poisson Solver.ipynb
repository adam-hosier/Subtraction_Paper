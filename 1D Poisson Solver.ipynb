{
 "cells": [
  {
   "cell_type": "code",
   "execution_count": 587,
   "metadata": {},
   "outputs": [],
   "source": [
    "def Laplace_Jacobi_slow(Phi):\n",
    "    # Don't use, very slow AND inefficient\n",
    "    Phi_new = Phi.copy()\n",
    "    Nx, = Phi.shape\n",
    "    for xi in range(1, Nx-1):\n",
    "        Phi_new[xi] = 0.5*(Phi[xi+1] + Phi[xi-1])\n",
    "\n",
    "    Phi = Phi_new\n",
    "    return Phi"
   ]
  },
  {
   "cell_type": "code",
   "execution_count": 588,
   "metadata": {},
   "outputs": [],
   "source": [
    "def Laplace_Jacobi(Phi):\n",
    "    \"\"\"One update in the Jacobi algorithm\"\"\"\n",
    "    Phi[1:-1] = 0.5*(Phi[2:, 1:-1] + Phi[0:-2, 1:-1] + Phi[1:-1, 2:] + Phi[1:-1, 0:-2])\n",
    "    return Phi"
   ]
  },
  {
   "cell_type": "code",
   "execution_count": 589,
   "metadata": {},
   "outputs": [],
   "source": [
    "def Laplace_Gauss_Seidel(Phi):\n",
    "    \"\"\"One update in the Gauss-Seidel algorithm\"\"\"\n",
    "    Nx, Ny = Phi.shape\n",
    "    for xi in range(1, Nx-1):\n",
    "        for yj in range(1, Ny-1):\n",
    "            Phi[xi, yj] = 0.25*(Phi[xi+1, yj] + Phi[xi-1, yj]\n",
    "                                + Phi[xi, yj+1] + Phi[xi, yj-1])\n",
    "    return Phi"
   ]
  },
  {
   "cell_type": "code",
   "execution_count": 590,
   "metadata": {},
   "outputs": [],
   "source": [
    "def Laplace_Gauss_Seidel_odd_even(Phi):\n",
    "    \"\"\"One update in the Gauss-Seidel algorithm on odd or even fields\"\"\"\n",
    "    # odd update (uses old even)\n",
    "    Phi[1:-2:2, 1:-2:2] = 0.25*(Phi[2::2, 1:-2:2] + Phi[0:-2:2, 1:-2:2] + Phi[1:-2:2, 2::2] + Phi[1:-2:2, 0:-2:2])\n",
    "    Phi[2:-1:2, 2:-1:2] = 0.25*(Phi[3::2, 2:-1:2] + Phi[1:-2:2, 2:-1:2] + Phi[2:-1:2, 3::2] + Phi[2:-1:2, 1:-2:2])\n",
    "    \n",
    "    # even update (uses new odd)\n",
    "    Phi[1:-2:2, 2:-1:2] = 0.25*(Phi[2::2, 2:-1:2] + Phi[0:-2:2, 2:-1:2] + Phi[1:-2:2, 3::2] + Phi[1:-2:2, 1:-1:2])\n",
    "    Phi[2:-1:2, 1:-2:2] = 0.25*(Phi[3::2, 1:-2:2] + Phi[1:-2:2, 1:-2:2] + Phi[2:-1:2, 2::2] + Phi[2:-1:2, 0:-2:2])\n",
    "    return Phi"
   ]
  },
  {
   "cell_type": "code",
   "execution_count": 591,
   "metadata": {},
   "outputs": [],
   "source": [
    "import numpy as np\n",
    "import matplotlib.pyplot as plt\n",
    "from mpl_toolkits.mplot3d import Axes3D"
   ]
  },
  {
   "cell_type": "code",
   "execution_count": 592,
   "metadata": {},
   "outputs": [],
   "source": [
    "# for interactive work\n",
    "%matplotlib widget"
   ]
  },
  {
   "cell_type": "code",
   "execution_count": 593,
   "metadata": {},
   "outputs": [],
   "source": [
    "%matplotlib inline"
   ]
  },
  {
   "cell_type": "code",
   "execution_count": 594,
   "metadata": {},
   "outputs": [],
   "source": [
    "def plot_contour(Phi, filename=None, zlabel=r\"potential $\\Phi$ (V)\",\n",
    "                 cmap=plt.cm.coolwarm):\n",
    "    \"\"\"Plot Phi as a contour plot.\n",
    "    \n",
    "    Arguments\n",
    "    ---------\n",
    "    Phi : 2D array\n",
    "          potential on lattice\n",
    "    filename : string or None, optional (default: None)\n",
    "          If `None` then show the figure and return the axes object.\n",
    "          If a string is given (like \"contour.png\") it will only plot \n",
    "          to the filename and close the figure but return the filename.\n",
    "    cmap : colormap\n",
    "          pick one from matplotlib.cm          \n",
    "    \"\"\"\n",
    "    fig = plt.figure(figsize=(5,4))\n",
    "    ax = fig.add_subplot(111)\n",
    "\n",
    "    x = np.arange(Phi.shape[0])\n",
    "    y = np.arange(Phi.shape[1])\n",
    "    X, Y = np.meshgrid(x, y)\n",
    "    Z = Phi[X, Y]\n",
    "    cset = ax.contourf(X, Y, Z, 20, cmap=cmap)\n",
    "    ax.set_xlabel('X')\n",
    "    ax.set_ylabel('Y')\n",
    "    ax.set_aspect(1)\n",
    "\n",
    "    cb = fig.colorbar(cset, shrink=0.5, aspect=5)\n",
    "    cb.set_label(zlabel)\n",
    "    \n",
    "    if filename:\n",
    "        fig.savefig(filename)\n",
    "        plt.close(fig)\n",
    "        return filename\n",
    "    else:\n",
    "        return ax\n",
    "    \n",
    "\n",
    "def plot_surf(Phi, filename=None, offset=-20, zlabel=r'potential $\\Phi$ (V)',\n",
    "             elevation=40, azimuth=-65, cmap=plt.cm.coolwarm):\n",
    "    \"\"\"Plot Phi as a 3D plot with contour plot underneath.\n",
    "    \n",
    "    Arguments\n",
    "    ---------\n",
    "    Phi : 2D array\n",
    "          potential on lattice\n",
    "    filename : string or None, optional (default: None)\n",
    "          If `None` then show the figure and return the axes object.\n",
    "          If a string is given (like \"contour.png\") it will only plot \n",
    "          to the filename and close the figure but return the filename.\n",
    "    offset : float, optional (default: 20)\n",
    "          position the 2D contour plot by offset along the Z direction\n",
    "          under the minimum Z value\n",
    "    zlabel : string, optional\n",
    "          label for the Z axis and color scale bar\n",
    "    elevation : float, optional\n",
    "          choose elevation for initial viewpoint\n",
    "    azimuth : float, optional\n",
    "          chooze azimuth angle for initial viewpoint\n",
    "    cmap : colormap\n",
    "          pick one from matplotlib.cm\n",
    "    \"\"\"\n",
    "     \n",
    "    x = np.arange(Phi.shape[0])\n",
    "    y = np.arange(Phi.shape[1])\n",
    "    X, Y = np.meshgrid(x, y)\n",
    "    Z = Phi[X, Y]\n",
    "        \n",
    "    fig = plt.figure()\n",
    "    ax = fig.add_subplot(111, projection='3d')\n",
    "    ax.plot_wireframe(X, Y, Z, rstride=2, cstride=2, linewidth=0.5, color=\"gray\")\n",
    "    surf = ax.plot_surface(X, Y, Z, cmap=cmap, alpha=0.6)\n",
    "    cset = ax.contourf(X, Y, Z, 20, zdir='z', offset=offset+Z.min(), cmap=cmap)\n",
    "\n",
    "    ax.set_xlabel('X')\n",
    "    ax.set_ylabel('Y')\n",
    "    ax.set_zlabel(zlabel)\n",
    "    ax.set_zlim(offset + Z.min(), Z.max())\n",
    "    \n",
    "    ax.view_init(elev=elevation, azim=azimuth)\n",
    "\n",
    "    cb = fig.colorbar(surf, shrink=0.5, aspect=5)\n",
    "    cb.set_label(zlabel)\n",
    "    \n",
    "    if filename:\n",
    "        fig.savefig(filename)\n",
    "        plt.close(fig)\n",
    "        return filename\n",
    "    else:\n",
    "        return ax"
   ]
  },
  {
   "cell_type": "code",
   "execution_count": 595,
   "metadata": {},
   "outputs": [],
   "source": [
    "from tqdm import tqdm"
   ]
  },
  {
   "cell_type": "code",
   "execution_count": 596,
   "metadata": {
    "scrolled": true
   },
   "outputs": [
    {
     "name": "stderr",
     "output_type": "stream",
     "text": [
      "100%|██████████| 300/300 [00:00<00:00, 2425.85it/s]"
     ]
    },
    {
     "name": "stdout",
     "output_type": "stream",
     "text": [
      "Laplace_Gauss_Seidel_odd_even did NOT converge in 300 iterations, DeltaPhi=0.5213307370122618\n"
     ]
    },
    {
     "name": "stderr",
     "output_type": "stream",
     "text": [
      "\n"
     ]
    }
   ],
   "source": [
    "Max_iter=300\n",
    "tol = 1e-3\n",
    "Nmax = 1000\n",
    "Phi = np.zeros(Nmax, dtype=np.float64)\n",
    "Phi_old = np.zeros_like(Phi)\n",
    "\n",
    "# initialize boundaries\n",
    "# everything starts out zero so nothing special for the grounded wires\n",
    "Phi[0] = 100     # wire at x=0 at 100 V\n",
    "\n",
    "for n_iter in tqdm(range(Max_iter)):\n",
    "    \n",
    "    Phi_old[:] = Phi\n",
    "    Phi = Laplace_Jacobi_slow(Phi)\n",
    "    DeltaPhi = np.linalg.norm(Phi - Phi_old)\n",
    "    if DeltaPhi < tol:\n",
    "        print(\"Laplace_Gauss_Seidel_odd_even converged in {0} iterations to {1}\".format(n_iter+1, DeltaPhi))\n",
    "        break\n",
    "else:\n",
    "    print(\"Laplace_Gauss_Seidel_odd_even did NOT converge in {0} iterations, DeltaPhi={1}\".format(n_iter+1, DeltaPhi))\n",
    "    "
   ]
  },
  {
   "cell_type": "code",
   "execution_count": 597,
   "metadata": {
    "scrolled": true
   },
   "outputs": [
    {
     "data": {
      "image/png": "[encoded data removed]",
      "text/plain": [
       "<Figure size 432x288 with 1 Axes>"
      ]
     },
     "metadata": {
      "needs_background": "light"
     },
     "output_type": "display_data"
    }
   ],
   "source": [
    "#plot_contour(Phi);\n",
    "xp = np.linspace(0, Nmax, num=Nmax)\n",
    "\n",
    "plt.figure() \n",
    "plt.ylabel('Potential (V)')\n",
    "plt.xlabel('Distance (arb)')\n",
    "plt.plot(xp, Phi)\n",
    "plt.show()\n",
    "\n"
   ]
  },
  {
   "cell_type": "code",
   "execution_count": 598,
   "metadata": {},
   "outputs": [
    {
     "name": "stderr",
     "output_type": "stream",
     "text": [
      " 38%|███▊      | 3796/10000 [00:00<00:00, 9248.57it/s]"
     ]
    },
    {
     "name": "stdout",
     "output_type": "stream",
     "text": [
      "SOR converged in 3797 iterations to 0.0009987117944452034\n"
     ]
    },
    {
     "name": "stderr",
     "output_type": "stream",
     "text": [
      "\n"
     ]
    }
   ],
   "source": [
    "Max_iter=10000\n",
    "tol = 1e-3\n",
    "Nmax = 100\n",
    "omega = 1.99\n",
    "\n",
    "Phi = np.zeros((Nmax, Nmax), dtype=np.float64)\n",
    "Phi_old = np.zeros_like(Phi)\n",
    "residual = np.zeros_like(Phi)\n",
    "\n",
    "# initialize boundaries\n",
    "# everything starts out zero so nothing special for the grounded wires\n",
    "Phi[0, :] = 100     # wire at x=0 at 100 V\n",
    "\n",
    "for n_iter in tqdm(range(Max_iter)):\n",
    "    Phi_old[:, :] = Phi\n",
    "    Phi = Laplace_Gauss_Seidel_odd_even(Phi)\n",
    "    residual[:, :] = Phi - Phi_old\n",
    "    DeltaPhi = np.linalg.norm(residual)\n",
    "    if DeltaPhi < tol:\n",
    "        print(\"SOR converged in {0} iterations to {1}\".format(n_iter+1, DeltaPhi))\n",
    "        break\n",
    "    # SOR\n",
    "    Phi[:, :] = Phi_old + omega*residual  # = omega*Phi + (1-omega)*Phi_old\n",
    "else:\n",
    "    print(\"SOR did NOT converge in {0} iterations, DeltaPhi={1}\".format(n_iter+1, DeltaPhi))\n"
   ]
  },
  {
   "cell_type": "code",
   "execution_count": 599,
   "metadata": {},
   "outputs": [],
   "source": [
    "#plot_surf(Phi);"
   ]
  },
  {
   "cell_type": "code",
   "execution_count": 600,
   "metadata": {},
   "outputs": [],
   "source": [
    "import numpy as np\n",
    "import scipy\n",
    "import math as m \n",
    "import lmfit \n",
    "import scipy.integrate as integrate\n",
    "from cmath import inf\n",
    "\n",
    "def Poisson_Jacobi(Phi, rho, Delta=1.):\n",
    "    \"\"\"One update in the Jacobi algorithm for Poisson's equation\"\"\"    \n",
    "    Phi[1:-1, 1:-1] = 0.25*(Phi[2:, 1:-1] + Phi[0:-2, 1:-1] + Phi[1:-1, 2:] + Phi[1:-1, 0:-2]) \\\n",
    "                      + np.pi * Delta**2 * rho[1:-1, 1:-1]\n",
    "    return Phi\n",
    "\n",
    "def Poisson_Gauss_Seidel(Phi, rho, Delta=1.):                   #Changed for 1D\n",
    "    \"\"\"One update in the Gauss-Seidel algorithm for Poisson's equation\"\"\"    \n",
    "    Nx, = Phi.shape\n",
    "    for xi in range(1, Nx-1):\n",
    "        \n",
    "        Phi[xi] = 0.5*(Phi[xi+1] + Phi[xi-1]) \\\n",
    "                        + np.pi * Delta**2 * rho[xi]\n",
    "    return Phi\n",
    "\n",
    "def Poisson_Gauss_Seidel_odd_even(Phi, rho, Delta=1.):\n",
    "    \"\"\"One update in the Gauss-Seidel algorithm on odd or even fields\"\"\"\n",
    "    a = np.pi * Delta**2\n",
    "    # odd update (uses old even)\n",
    "    Phi[1:-2:2, 1:-2:2] = 0.25*(Phi[2::2, 1:-2:2] + Phi[0:-2:2, 1:-2:2] \n",
    "                                + Phi[1:-2:2, 2::2] + Phi[1:-2:2, 0:-2:2]) + a * rho[1:-2:2, 1:-2:2]\n",
    "    Phi[2:-1:2, 2:-1:2] = 0.25*(Phi[3::2, 2:-1:2] + Phi[1:-2:2, 2:-1:2] \n",
    "                                + Phi[2:-1:2, 3::2] + Phi[2:-1:2, 1:-2:2]) + a * rho[2:-1:2, 2:-1:2]\n",
    "    \n",
    "    # even update (uses new odd)\n",
    "    Phi[1:-2:2, 2:-1:2] = 0.25*(Phi[2::2, 2:-1:2] + Phi[0:-2:2, 2:-1:2] \n",
    "                                + Phi[1:-2:2, 3::2] + Phi[1:-2:2, 1:-1:2]) + a * rho[1:-2:2, 2:-1:2]\n",
    "    Phi[2:-1:2, 1:-2:2] = 0.25*(Phi[3::2, 1:-2:2] + Phi[1:-2:2, 1:-2:2] \n",
    "                                + Phi[2:-1:2, 2::2] + Phi[2:-1:2, 0:-2:2]) + a * rho[2:-1:2, 1:-2:2]\n",
    "    return Phi\n",
    "\n",
    "\n",
    "def Poisson_Gauss_Seidel_odd_even_1D(Phi, rho, Delta=1.):\n",
    "    \"\"\"One update in the Gauss-Seidel algorithm on odd or even fields\"\"\"\n",
    "    a = np.pi * Delta**2\n",
    "    # odd update (uses old even)\n",
    "    Phi[1:-2:2] = 0.25*(Phi[2::2] + Phi[0:-2:2] \n",
    "                                + Phi[1:-2:2] + Phi[1:-2:2]) + a * rho[1:-2:2]\n",
    "    Phi[2:-1:2] = 0.25*(Phi[3::2] + Phi[1:-2:2] \n",
    "                                + Phi[2:-1:2] + Phi[2:-1:2]) + a * rho[2:-1:2]\n",
    "    \n",
    "    # even update (uses new odd)\n",
    "    Phi[1:-2:2] = 0.25*(Phi[2::2] + Phi[0:-2:2] \n",
    "                                + Phi[1:-2:2] + Phi[1:-2:2]) + a * rho[1:-2:2]\n",
    "    Phi[2:-1:2] = 0.25*(Phi[3::2] + Phi[1:-2:2] \n",
    "                                + Phi[2:-1:2] + Phi[2:-1:2]) + a * rho[2:-1:2]\n",
    "    return Phi"
   ]
  },
  {
   "cell_type": "code",
   "execution_count": 601,
   "metadata": {},
   "outputs": [
    {
     "name": "stdout",
     "output_type": "stream",
     "text": [
      "total electron charge:  -1.4262208748714781e-05\n"
     ]
    },
    {
     "data": {
      "image/png": "[encoded data removed]",
      "text/plain": [
       "<Figure size 432x288 with 1 Axes>"
      ]
     },
     "metadata": {
      "needs_background": "light"
     },
     "output_type": "display_data"
    },
    {
     "name": "stderr",
     "output_type": "stream",
     "text": [
      "  0%|          | 4076/10000000 [00:00<05:19, 31316.14it/s]\n"
     ]
    },
    {
     "name": "stdout",
     "output_type": "stream",
     "text": [
      "SOR converged in 4077 iterations to 0.009997882554114063\n"
     ]
    },
    {
     "data": {
      "image/png": "[encoded data removed]",
      "text/plain": [
       "<Figure size 432x288 with 1 Axes>"
      ]
     },
     "metadata": {
      "needs_background": "light"
     },
     "output_type": "display_data"
    }
   ],
   "source": [
    "Nmax = 100\n",
    "Max_iter = 10000000\n",
    "#omega = 1.99\n",
    "omega = 1.75\n",
    "tol = 1e-2\n",
    "echarge = 1.60217663*10**(-19)\n",
    "eps0 = 8.854*10**(-12)\n",
    "len_trap = 2e-2\n",
    "thic = 1e-3\n",
    "r_ebeam = 40 #micrometers - radius of electron beam\n",
    "r_dtube = 28e4 #micrometers - radius of middle drift tube \n",
    "#lambe = -1.88501*10**(-9) #line charge density of e-beam @ 8keV and 100mA\n",
    "qV =  4*10**(12)*7 #*((100)**(3))\n",
    "lambe = -echarge*qV * np.pi * (r_ebeam*10**(-6))**2 / (eps0*1e6)\n",
    "#lambe = -echarge*qV * (1e-3)**2/ (eps0*1e6)\n",
    "#lambe = -echarge*qV*thic*len_trap / (eps0 * 1e6)\n",
    "\n",
    "Nion = 1e12\n",
    "Zion = 65\n",
    "kT = 2e-12\n",
    "\n",
    "def boltzfun(V, q, kT): \n",
    "    return np.exp(-q*V/kT)\n",
    "\n",
    "\n",
    "Phi = np.zeros(Nmax, dtype=np.float64)\n",
    "Phi_old = np.zeros_like(Phi)\n",
    "rho = np.zeros_like(Phi)\n",
    "residual = np.zeros_like(Phi)\n",
    "\n",
    "Phi2 = np.zeros(Nmax, dtype=np.float64)\n",
    "Phi_old2 = np.zeros_like(Phi)\n",
    "rho2 = np.zeros_like(Phi)\n",
    "residual2 = np.zeros_like(Phi)\n",
    "\n",
    "Phi3 = np.zeros(Nmax, dtype=np.float64)\n",
    "Phi_old3 = np.zeros_like(Phi)\n",
    "rho3 = np.zeros_like(Phi)\n",
    "residual3 = np.zeros_like(Phi)\n",
    "\n",
    "# initialize boundaries\n",
    "Vd = 200\n",
    "\n",
    "Phi[0] = Vd\n",
    "Phi[Nmax-1] = Vd    # potential of drift tube at boundaries \n",
    "\n",
    "Phi2[0] = Vd \n",
    "Phi2[Nmax-1] = Vd\n",
    "\n",
    "Phi3[0] = Vd\n",
    "Phi3[Nmax-1] = Vd\n",
    "\n",
    "\n",
    "center = 0.9\n",
    "for i in range(Nmax):               #potential due to e-beam \n",
    "    val1 = i/Nmax \n",
    "    b1 = center - (r_ebeam/r_dtube) \n",
    "    b2 = center + (r_ebeam/r_dtube)\n",
    "    if val1 < b2 and val1 > b1:\n",
    "        rho[i] = lambe#*(r_dtube/Nmax)\n",
    "    else: \n",
    "        rho[i] = 0 \n",
    "\n",
    "\n",
    "Tc = 2*r_dtube * (1/Nmax) * np.sum(rho)\n",
    "\n",
    "print('total electron charge: ', Tc)\n",
    "xp = np.linspace(-r_dtube, r_dtube, num=Nmax)\n",
    "\n",
    "\n",
    "plt.figure()\n",
    "plt.title('charge distribution')\n",
    "plt.plot(xp, rho, label='e-beam')\n",
    "#plt.plot(xp, ionrho, label='ions')\n",
    "#plt.plot(xp, rhoT, label='total')\n",
    "#plt.xlim(-r_ebeam*1500, 1500*r_ebeam)\n",
    "plt.legend()\n",
    "plt.show()\n",
    "plt.close()\n",
    "\n",
    "Delta = 0.25\n",
    "\n",
    "for n_iter in tqdm(range(Max_iter)):\n",
    "    Phi_old[:] = Phi\n",
    "    #Phi = Poisson_Gauss_Seidel(Phi, rho, Delta=Delta)\n",
    "    Phi = Poisson_Gauss_Seidel_odd_even_1D(Phi, rho, Delta=Delta)\n",
    "    residual[:] = Phi - Phi_old\n",
    "    DeltaPhi = np.linalg.norm(residual)\n",
    "    if DeltaPhi < tol:\n",
    "        print(\"SOR converged in {0} iterations to {1}\".format(n_iter+1, DeltaPhi))\n",
    "        break\n",
    "    # SOR\n",
    "    Phi[:] = Phi_old + omega*residual # = omega*Phi + (1-omega)*Phi_old\n",
    "else:\n",
    "    print(\"SOR did NOT converge in {0} iterations, DeltaPhi={1}\".format(n_iter+1, DeltaPhi))\n",
    "\n",
    "\n",
    "# for n_iter in tqdm(range(Max_iter)):\n",
    "#     Phi_old2[:] = Phi2\n",
    "#     #Phi = Poisson_Gauss_Seidel(Phi, rho, Delta=Delta)                                      ##get constant of integration here and find potential, then add potential to rho \n",
    "#     Phi2 = Poisson_Gauss_Seidel_odd_even_1D(Phi2, 0.3*rho, Delta=Delta)\n",
    "#     residual2[:] = Phi2 - Phi_old2\n",
    "#     DeltaPhi = np.linalg.norm(residual2)\n",
    "#     if DeltaPhi < tol:\n",
    "#         print(\"SOR2 converged in {0} iterations to {1}\".format(n_iter+1, DeltaPhi))\n",
    "#         break\n",
    "#     # SOR\n",
    "#     Phi2[:] = Phi_old2 + omega*residual2 # = omega*Phi + (1-omega)*Phi_old\n",
    "# else:\n",
    "#     print(\"SOR2 did NOT converge in {0} iterations, DeltaPhi={1}\".format(n_iter+1, DeltaPhi))\n",
    "\n",
    "    \n",
    "ionrho = np.zeros_like(Phi3)\n",
    "#ion cloud calculation\n",
    "# for n_iter in tqdm(range(Max_iter)):\n",
    "#     Phi_old3[:] = Phi3\n",
    "#     print(n_iter)\n",
    "#     if n_iter < 1:  \n",
    "#         print('if')\n",
    "#         #Phi_old3[:] = Phi3                    \n",
    "#         Phi3 = Poisson_Gauss_Seidel_odd_even_1D(Phi_old3, rho, Delta=Delta)\n",
    "#         residual3[:] = Phi3 - Phi_old3\n",
    "#         DeltaPhi = np.linalg.norm(residual3)\n",
    "\n",
    "#         if DeltaPhi < tol:\n",
    "#             print(\"SOR_ion converged in {0} iterations to {1}\".format(n_iter+1, DeltaPhi))\n",
    "#             break\n",
    "#             # SOR\n",
    "#             Phi3[:] = Phi_old3 + omega*residual3 # = omega*Phi + (1-omega)*Phi_old\n",
    "#         # else:\n",
    "#         #     print(\"SOR_ion did NOT converge in {0} iterations, DeltaPhi={1}\".format(n_iter+1, DeltaPhi))\n",
    "\n",
    "#     else: \n",
    "#         print('else')\n",
    "#         Phi_old3[:] = Phi3\n",
    "\n",
    "#         f1 = boltzfun(Phi_old3, Nion*Zion*echarge, kT=kT)\n",
    "#         f1 = f1 - np.min(f1)\n",
    "#         intnorm = np.trapz(f1, dx=2*r_dtube/Nmax)\n",
    "\n",
    "#         # for i in range(Nmax-1):\n",
    "#         #     ionrho[i] = Nion*Zion*echarge/(intnorm*2*r_dtube) * 0.5 * (2*r_dtube/Nmax)*(f1[i] + f1[i+1]) \n",
    "\n",
    "#         for i in range(Nmax-1):\n",
    "#             rho[i] += Nion*Zion*echarge/(intnorm*2*r_dtube) * 0.5 * (2*r_dtube/Nmax)*(f1[i] + f1[i+1])\n",
    "\n",
    "#         #rhoT = ionrho + rho\n",
    "#         Phi3 = Poisson_Gauss_Seidel_odd_even_1D(Phi_old3, rhoT, Delta=Delta)\n",
    "#         residual3[:] = Phi3 - Phi_old3\n",
    "#         DeltaPhi = np.linalg.norm(residual3)\n",
    "#         if DeltaPhi < tol:\n",
    "#             print(\"SOR_ion converged in {0} iterations to {1}\".format(n_iter+1, DeltaPhi))\n",
    "#             break\n",
    "#             # SOR\n",
    "#             Phi3[:] = Phi_old3 + omega*residual3 # = omega*Phi + (1-omega)*Phi_old\n",
    "#         else:\n",
    "#             print(\"SOR_ion did NOT converge in {0} iterations, DeltaPhi={1}\".format(n_iter+1, DeltaPhi))\n",
    "\n",
    "\n",
    "\n",
    "plt.figure() \n",
    "plt.ylabel('E-beam Potential (V)')\n",
    "#plt.xlabel('Distance (arb)')\n",
    "plt.xlabel('Distance [micrometers]')\n",
    "#plt.ylim(0, 250)\n",
    "#plt.xlim(-r_ebeam*1100, r_ebeam*1100)\n",
    "#plt.ylim(ymax=0.1)\n",
    "\n",
    "plt.plot(xp, Phi, c='b', label='100%')\n",
    "#plt.plot(xp, Phi2, c='r', label='30%')\n",
    "#plt.plot(xp, Phi3, c='g', label='Z=65+ ions')\n",
    "plt.legend()\n",
    "plt.show()\n",
    "\n",
    "# f1 = boltzfun(Phi2, Nion*Zion*echarge, kT=kT)\n",
    "# f1 = f1 - np.min(f1)\n",
    "# area1 = np.trapz(f1, dx=2*r_dtube/Nmax)\n",
    "# area1 = Zion/area1 *np.trapz(f1, dx=2*r_dtube/Nmax)\n",
    "\n"
   ]
  },
  {
   "cell_type": "code",
   "execution_count": 602,
   "metadata": {},
   "outputs": [],
   "source": [
    "# #plot_surf(Phi, elevation=40, azimuth=20);\n",
    "# xp = np.linspace(-r_dtube, r_dtube, num=Nmax)\n",
    "\n",
    "# plt.figure() \n",
    "# plt.ylabel('Potential (V)')\n",
    "# #plt.xlabel('Distance (arb)')\n",
    "# plt.xlabel('Distance [micrometers]')\n",
    "# #plt.ylim(0, 250)\n",
    "# #plt.xlim(-r_ebeam*1100, r_ebeam*1100)\n",
    "# #plt.ylim(ymax=0.1)\n",
    "\n",
    "# plt.plot(xp, Phi, c='b', label='100%')\n",
    "# plt.plot(xp, Phi2, c='r', label='30%')\n",
    "# plt.legend()\n",
    "# plt.show()\n"
   ]
  },
  {
   "cell_type": "code",
   "execution_count": 603,
   "metadata": {},
   "outputs": [],
   "source": [
    "def laplacian2d(f, Delta=1):\n",
    "    \"\"\"Finite difference approximation of Del^2 f.\n",
    "        \n",
    "    Arguments\n",
    "    ---------\n",
    "    f : M x N matrix\n",
    "    Delta : float\n",
    "    \n",
    "    Returns\n",
    "    -------\n",
    "    M x N matrix, boundaries set to 0\n",
    "    \"\"\"\n",
    "    \n",
    "    L = np.zeros_like(f, dtype=np.float64)\n",
    "    L[1:-1, 1:-1] = f[2:, 1:-1] + f[:-2, 1:-1] + f[1:-1, 2:] + f[1:-1, :-2] - 4*f[1:-1, 1:-1]\n",
    "    return L/Delta**2\n",
    "\n",
    "def laplacian2dsimple(f, Delta=1):\n",
    "    L = np.zeros_like(f, dtype=np.float64)\n",
    "    for i in range(1, L.shape[0]-1):\n",
    "        for j in range(1, L.shape[1]-1):\n",
    "            L[i, j] = f[i+1, j] + f[i-1, j] + f[i, j+1] + f[i, j-1] - 4*f[i, j]            \n",
    "    return L/Delta**2\n",
    "\n",
    "\n",
    "def laplacian1d(f, Delta=1):\n",
    "    \"\"\"Finite difference approximation of Del^2 f.\n",
    "        \n",
    "    Arguments\n",
    "    ---------\n",
    "    f : M matrix\n",
    "    Delta : float\n",
    "    \n",
    "    Returns\n",
    "    -------\n",
    "    M matrix, boundaries set to 0\n",
    "    \"\"\"\n",
    "    \n",
    "    L = np.zeros_like(f, dtype=np.float64)\n",
    "    L[1:-1] = f[2:] + f[:-2]  - 4*f[1:-1]\n",
    "    return L/Delta**2\n",
    "\n",
    "def laplacian1dsimple(f, Delta=1):\n",
    "    L = np.zeros_like(f, dtype=np.float64)\n",
    "    for i in range(1, L.shape[0]-1):\n",
    "        L[i] = f[i+1] + f[i-1] - 4*f[i]            \n",
    "    return L/Delta**2"
   ]
  },
  {
   "cell_type": "code",
   "execution_count": 604,
   "metadata": {},
   "outputs": [],
   "source": [
    "import numpy as np\n",
    "\n",
    "def test_laplacian2d():\n",
    "    ftest = np.random.random((200, 200))\n",
    "    assert np.allclose(laplacian2d(ftest), laplacian2dsimple(ftest))\n",
    "\n",
    "def test_laplacian1d():\n",
    "    ftest = np.random.random((200))\n",
    "    assert np.allclose(laplacian1d(ftest), laplacian1dsimple(ftest))\n",
    "\n",
    "test_laplacian2d()\n",
    "\n",
    "test_laplacian1d()"
   ]
  },
  {
   "cell_type": "code",
   "execution_count": 605,
   "metadata": {},
   "outputs": [],
   "source": [
    "#rhox = - laplacian2d(Phi)/(4*np.pi)\n",
    "\n",
    "rhocal = - laplacian1d(Phi) / (4*np.pi)"
   ]
  },
  {
   "cell_type": "code",
   "execution_count": 606,
   "metadata": {},
   "outputs": [
    {
     "data": {
      "image/png": "[encoded data removed]",
      "text/plain": [
       "<Figure size 432x288 with 1 Axes>"
      ]
     },
     "metadata": {
      "needs_background": "light"
     },
     "output_type": "display_data"
    }
   ],
   "source": [
    "#plot_contour(rhox, zlabel=r\"charge density $\\rho$\");\n",
    "plt.figure() \n",
    "plt.plot(xp, rhocal)\n",
    "plt.xlabel('position (mu-meter)')\n",
    "plt.ylabel('Charge (C)')\n",
    "plt.title('Charge distribution in EBIT')\n",
    "plt.show()"
   ]
  },
  {
   "cell_type": "code",
   "execution_count": 607,
   "metadata": {
    "scrolled": true
   },
   "outputs": [],
   "source": [
    "#plot_surf(rhox, zlabel=r\"charge density $\\rho$\", elevation=20, azimuth=20, offset=-3);"
   ]
  }
 ],
 "metadata": {
  "anaconda-cloud": {},
  "celltoolbar": "Slideshow",
  "kernelspec": {
   "display_name": "Python 3.9.7 64-bit",
   "language": "python",
   "name": "python3"
  },
  "language_info": {
   "codemirror_mode": {
    "name": "ipython",
    "version": 3
   },
   "file_extension": ".py",
   "mimetype": "text/x-python",
   "name": "python",
   "nbconvert_exporter": "python",
   "pygments_lexer": "ipython3",
   "version": "3.9.7"
  },
  "vscode": {
   "interpreter": {
    "hash": "513e8cd82481a69de879dfc7bc85e4e7aa95e15a1c51519caf49ad7bad32fd80"
   }
  }
 },
 "nbformat": 4,
 "nbformat_minor": 4
}
