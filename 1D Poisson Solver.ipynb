{
 "cells": [
  {
   "cell_type": "markdown",
   "metadata": {
    "slideshow": {
     "slide_type": "slide"
    }
   },
   "source": [
    "# 14 Partial Differential Equations — 2\n",
    "\n",
    "## Solving Laplace's or Poisson's equation\n",
    "\n",
    "Still solving **Poisson's equation** for the electric potential $\\Phi(\\mathbf{r})$ and the charge density $\\rho(\\mathbf{r})$:\n",
    "\n",
    "$$\n",
    "\\nabla^2 \\Phi(x, y, z) = -4\\pi\\rho(x, y, z)\\\\\n",
    "$$"
   ]
  },
  {
   "cell_type": "markdown",
   "metadata": {},
   "source": [
    "General solution by iteration:\n",
    "$$\n",
    "\\Phi_{i,j} = \\frac{1}{4}\\Big(\\Phi_{i+1,j} + \\Phi_{i-1,j} + \\Phi_{i,j+1} + \\Phi_{i,j-1}\\Big)\n",
    "     + \\pi\\rho_{i,j} \\Delta^2\n",
    "$$"
   ]
  },
  {
   "cell_type": "markdown",
   "metadata": {
    "slideshow": {
     "slide_type": "subslide"
    }
   },
   "source": [
    "#### Jacobi method\n",
    "Do not change $\\Phi_{i,j}$ until a complete sweep has been completed."
   ]
  },
  {
   "cell_type": "code",
   "execution_count": 20,
   "metadata": {},
   "outputs": [],
   "source": [
    "def Laplace_Jacobi_slow(Phi):\n",
    "    # Don't use, very slow AND inefficient\n",
    "    Phi_new = Phi.copy()\n",
    "    Nx, = Phi.shape\n",
    "    for xi in range(1, Nx-1):\n",
    "        Phi_new[xi] = 0.5*(Phi[xi+1] + Phi[xi-1])\n",
    "\n",
    "    Phi = Phi_new\n",
    "    return Phi"
   ]
  },
  {
   "cell_type": "markdown",
   "metadata": {},
   "source": [
    "Fast implementation using numpy array operations (vectorized, run at C speed, not Python speed) (see the [board notes (PDF)](14_PDEs-2-LectureNotes.pdf)) for an explanation for how to set up the numpy array operations that give you a 100-fold speed up over `Laplace_Jacobi_slow()`):"
   ]
  },
  {
   "cell_type": "code",
   "execution_count": 2,
   "metadata": {},
   "outputs": [],
   "source": [
    "def Laplace_Jacobi(Phi):\n",
    "    \"\"\"One update in the Jacobi algorithm\"\"\"\n",
    "    Phi[1:-1] = 0.5*(Phi[2:, 1:-1] + Phi[0:-2, 1:-1] + Phi[1:-1, 2:] + Phi[1:-1, 0:-2])\n",
    "    return Phi"
   ]
  },
  {
   "cell_type": "markdown",
   "metadata": {
    "slideshow": {
     "slide_type": "subslide"
    }
   },
   "source": [
    "#### Gauss-Seidel method\n",
    "Immediately use updated new values for $\\Phi_{i-1, j}$ and $\\Phi_{i, j-1}$ (if starting from $\\Phi_{1, 1}$).\n",
    "\n",
    "Leads to *accelerated convergence* and therefore *less round-off error* (but distorts symmetry of boundary conditions... hopefully irrelevant when converged but check!)"
   ]
  },
  {
   "cell_type": "code",
   "execution_count": 3,
   "metadata": {},
   "outputs": [],
   "source": [
    "def Laplace_Gauss_Seidel(Phi):\n",
    "    \"\"\"One update in the Gauss-Seidel algorithm\"\"\"\n",
    "    Nx, Ny = Phi.shape\n",
    "    for xi in range(1, Nx-1):\n",
    "        for yj in range(1, Ny-1):\n",
    "            Phi[xi, yj] = 0.25*(Phi[xi+1, yj] + Phi[xi-1, yj]\n",
    "                                + Phi[xi, yj+1] + Phi[xi, yj-1])\n",
    "    return Phi"
   ]
  },
  {
   "cell_type": "markdown",
   "metadata": {},
   "source": [
    "#### Fast Gauss-Seidel-like\n",
    "\n",
    "Divide the lattice into a checkerboard of black and white cells. Update the odd cells first (like Jacobi) but then use the odd cells to update the even ones (Gauss-Seidel-like; see the [board notes (PDF)](14_PDEs-2-LectureNotes.pdf)). This leads to faster convergence *and* can be done with numpy array operations."
   ]
  },
  {
   "cell_type": "code",
   "execution_count": 4,
   "metadata": {},
   "outputs": [],
   "source": [
    "def Laplace_Gauss_Seidel_odd_even(Phi):\n",
    "    \"\"\"One update in the Gauss-Seidel algorithm on odd or even fields\"\"\"\n",
    "    # odd update (uses old even)\n",
    "    Phi[1:-2:2, 1:-2:2] = 0.25*(Phi[2::2, 1:-2:2] + Phi[0:-2:2, 1:-2:2] + Phi[1:-2:2, 2::2] + Phi[1:-2:2, 0:-2:2])\n",
    "    Phi[2:-1:2, 2:-1:2] = 0.25*(Phi[3::2, 2:-1:2] + Phi[1:-2:2, 2:-1:2] + Phi[2:-1:2, 3::2] + Phi[2:-1:2, 1:-2:2])\n",
    "    \n",
    "    # even update (uses new odd)\n",
    "    Phi[1:-2:2, 2:-1:2] = 0.25*(Phi[2::2, 2:-1:2] + Phi[0:-2:2, 2:-1:2] + Phi[1:-2:2, 3::2] + Phi[1:-2:2, 1:-1:2])\n",
    "    Phi[2:-1:2, 1:-2:2] = 0.25*(Phi[3::2, 1:-2:2] + Phi[1:-2:2, 1:-2:2] + Phi[2:-1:2, 2::2] + Phi[2:-1:2, 0:-2:2])\n",
    "    return Phi"
   ]
  },
  {
   "cell_type": "markdown",
   "metadata": {
    "slideshow": {
     "slide_type": "slide"
    }
   },
   "source": [
    "### *Converged* solution of the wire-in-a-box problem"
   ]
  },
  {
   "cell_type": "markdown",
   "metadata": {},
   "source": [
    "Solve the box-wire problem and **make sure that the solution is converged to  `tol = 1e-3`.**"
   ]
  },
  {
   "cell_type": "markdown",
   "metadata": {},
   "source": [
    "Check convergence with the [_Frobenius Norm_](http://mathworld.wolfram.com/FrobeniusNorm.html):\n",
    "\n",
    "$$\n",
    "||\\mathsf{\\Phi}|| := \\sqrt{\\sum_{i,j}|\\Phi_{ij}|^2}\n",
    "$$\n",
    "\n",
    "which is implemented as [numpy.linalg.norm()](https://numpy.org/doc/stable/reference/generated/numpy.linalg.norm.html) when the argument is a matrix."
   ]
  },
  {
   "cell_type": "code",
   "execution_count": 1,
   "metadata": {},
   "outputs": [],
   "source": [
    "import numpy as np\n",
    "import matplotlib.pyplot as plt\n",
    "from mpl_toolkits.mplot3d import Axes3D"
   ]
  },
  {
   "cell_type": "code",
   "execution_count": 2,
   "metadata": {},
   "outputs": [],
   "source": [
    "# for interactive work\n",
    "%matplotlib widget"
   ]
  },
  {
   "cell_type": "code",
   "execution_count": 3,
   "metadata": {},
   "outputs": [],
   "source": [
    "%matplotlib inline"
   ]
  },
  {
   "cell_type": "code",
   "execution_count": 4,
   "metadata": {},
   "outputs": [],
   "source": [
    "def plot_contour(Phi, filename=None, zlabel=r\"potential $\\Phi$ (V)\",\n",
    "                 cmap=plt.cm.coolwarm):\n",
    "    \"\"\"Plot Phi as a contour plot.\n",
    "    \n",
    "    Arguments\n",
    "    ---------\n",
    "    Phi : 2D array\n",
    "          potential on lattice\n",
    "    filename : string or None, optional (default: None)\n",
    "          If `None` then show the figure and return the axes object.\n",
    "          If a string is given (like \"contour.png\") it will only plot \n",
    "          to the filename and close the figure but return the filename.\n",
    "    cmap : colormap\n",
    "          pick one from matplotlib.cm          \n",
    "    \"\"\"\n",
    "    fig = plt.figure(figsize=(5,4))\n",
    "    ax = fig.add_subplot(111)\n",
    "\n",
    "    x = np.arange(Phi.shape[0])\n",
    "    y = np.arange(Phi.shape[1])\n",
    "    X, Y = np.meshgrid(x, y)\n",
    "    Z = Phi[X, Y]\n",
    "    cset = ax.contourf(X, Y, Z, 20, cmap=cmap)\n",
    "    ax.set_xlabel('X')\n",
    "    ax.set_ylabel('Y')\n",
    "    ax.set_aspect(1)\n",
    "\n",
    "    cb = fig.colorbar(cset, shrink=0.5, aspect=5)\n",
    "    cb.set_label(zlabel)\n",
    "    \n",
    "    if filename:\n",
    "        fig.savefig(filename)\n",
    "        plt.close(fig)\n",
    "        return filename\n",
    "    else:\n",
    "        return ax\n",
    "    \n",
    "\n",
    "def plot_surf(Phi, filename=None, offset=-20, zlabel=r'potential $\\Phi$ (V)',\n",
    "             elevation=40, azimuth=-65, cmap=plt.cm.coolwarm):\n",
    "    \"\"\"Plot Phi as a 3D plot with contour plot underneath.\n",
    "    \n",
    "    Arguments\n",
    "    ---------\n",
    "    Phi : 2D array\n",
    "          potential on lattice\n",
    "    filename : string or None, optional (default: None)\n",
    "          If `None` then show the figure and return the axes object.\n",
    "          If a string is given (like \"contour.png\") it will only plot \n",
    "          to the filename and close the figure but return the filename.\n",
    "    offset : float, optional (default: 20)\n",
    "          position the 2D contour plot by offset along the Z direction\n",
    "          under the minimum Z value\n",
    "    zlabel : string, optional\n",
    "          label for the Z axis and color scale bar\n",
    "    elevation : float, optional\n",
    "          choose elevation for initial viewpoint\n",
    "    azimuth : float, optional\n",
    "          chooze azimuth angle for initial viewpoint\n",
    "    cmap : colormap\n",
    "          pick one from matplotlib.cm\n",
    "    \"\"\"\n",
    "     \n",
    "    x = np.arange(Phi.shape[0])\n",
    "    y = np.arange(Phi.shape[1])\n",
    "    X, Y = np.meshgrid(x, y)\n",
    "    Z = Phi[X, Y]\n",
    "        \n",
    "    fig = plt.figure()\n",
    "    ax = fig.add_subplot(111, projection='3d')\n",
    "    ax.plot_wireframe(X, Y, Z, rstride=2, cstride=2, linewidth=0.5, color=\"gray\")\n",
    "    surf = ax.plot_surface(X, Y, Z, cmap=cmap, alpha=0.6)\n",
    "    cset = ax.contourf(X, Y, Z, 20, zdir='z', offset=offset+Z.min(), cmap=cmap)\n",
    "\n",
    "    ax.set_xlabel('X')\n",
    "    ax.set_ylabel('Y')\n",
    "    ax.set_zlabel(zlabel)\n",
    "    ax.set_zlim(offset + Z.min(), Z.max())\n",
    "    \n",
    "    ax.view_init(elev=elevation, azim=azimuth)\n",
    "\n",
    "    cb = fig.colorbar(surf, shrink=0.5, aspect=5)\n",
    "    cb.set_label(zlabel)\n",
    "    \n",
    "    if filename:\n",
    "        fig.savefig(filename)\n",
    "        plt.close(fig)\n",
    "        return filename\n",
    "    else:\n",
    "        return ax"
   ]
  },
  {
   "cell_type": "markdown",
   "metadata": {},
   "source": [
    "#### Wire problem\n",
    "\n",
    "Use the fastest Poisson solver that we have at the moment: `Laplace_Gauss_Seidel_odd_even()`"
   ]
  },
  {
   "cell_type": "markdown",
   "metadata": {},
   "source": [
    "(In order to get a cool progress bar, install tqdm with `conda install tqdm`.)"
   ]
  },
  {
   "cell_type": "code",
   "execution_count": 5,
   "metadata": {},
   "outputs": [],
   "source": [
    "from tqdm import tqdm"
   ]
  },
  {
   "cell_type": "code",
   "execution_count": 22,
   "metadata": {
    "scrolled": true
   },
   "outputs": [
    {
     "name": "stderr",
     "output_type": "stream",
     "text": [
      " 15%|█▌        | 464645/3000000 [03:19<18:09, 2327.66it/s]"
     ]
    },
    {
     "name": "stdout",
     "output_type": "stream",
     "text": [
      "Laplace_Gauss_Seidel_odd_even converged in 464646 iterations to 0.0009999958903843691\n"
     ]
    },
    {
     "name": "stderr",
     "output_type": "stream",
     "text": [
      "\n"
     ]
    }
   ],
   "source": [
    "Max_iter=3000000\n",
    "tol = 1e-3\n",
    "Nmax = 1000\n",
    "Phi = np.zeros(Nmax, dtype=np.float64)\n",
    "Phi_old = np.zeros_like(Phi)\n",
    "\n",
    "# initialize boundaries\n",
    "# everything starts out zero so nothing special for the grounded wires\n",
    "Phi[0] = 100     # wire at x=0 at 100 V\n",
    "\n",
    "for n_iter in tqdm(range(Max_iter)):\n",
    "    \n",
    "    Phi_old[:] = Phi\n",
    "    Phi = Laplace_Jacobi_slow(Phi)\n",
    "    DeltaPhi = np.linalg.norm(Phi - Phi_old)\n",
    "    if DeltaPhi < tol:\n",
    "        print(\"Laplace_Gauss_Seidel_odd_even converged in {0} iterations to {1}\".format(n_iter+1, DeltaPhi))\n",
    "        break\n",
    "else:\n",
    "    print(\"Laplace_Gauss_Seidel_odd_even did NOT converge in {0} iterations, DeltaPhi={1}\".format(n_iter+1, DeltaPhi))\n",
    "    "
   ]
  },
  {
   "cell_type": "markdown",
   "metadata": {},
   "source": [
    "Plot the result and visualy compare to what we had before:"
   ]
  },
  {
   "cell_type": "code",
   "execution_count": 27,
   "metadata": {
    "scrolled": true
   },
   "outputs": [
    {
     "data": {
      "image/png": "[encoded data removed]",
      "text/plain": [
       "<Figure size 432x288 with 1 Axes>"
      ]
     },
     "metadata": {
      "needs_background": "light"
     },
     "output_type": "display_data"
    }
   ],
   "source": [
    "#plot_contour(Phi);\n",
    "xp = np.linspace(0, Nmax, num=Nmax)\n",
    "\n",
    "plt.figure() \n",
    "plt.ylabel('Potential (V)')\n",
    "plt.xlabel('Distance (arb)')\n",
    "plt.plot(xp, Phi)\n",
    "plt.show()\n",
    "\n"
   ]
  },
  {
   "cell_type": "code",
   "execution_count": 29,
   "metadata": {},
   "outputs": [],
   "source": [
    "#plot_surf(Phi);"
   ]
  },
  {
   "cell_type": "markdown",
   "metadata": {
    "slideshow": {
     "slide_type": "slide"
    }
   },
   "source": [
    "## Successive Over Relaxation (SOR)\n",
    "Accelerate convergence with the scheme\n",
    "\n",
    "\\begin{align}\n",
    "r_{i, j} &= \\Phi_{i,j}^\\text{new} - \\Phi_{i, j}^\\text{old}\\\\\n",
    "\\Phi_{i,j}^\\text{new} &= \\Phi_{i,j}^\\text{old} + \\omega r_{i,j}\n",
    "\\end{align}\n",
    "\n",
    "where the new solution is computed with the Gauss-Seidel scheme."
   ]
  },
  {
   "cell_type": "markdown",
   "metadata": {},
   "source": [
    "Values of $1 \\leq \\omega \\leq 2$ may work well, $\\omega > 2$ can lead to numerical instabilities. Experiment!"
   ]
  },
  {
   "cell_type": "markdown",
   "metadata": {},
   "source": [
    "### Solve Wire-in-a-box with SOR "
   ]
  },
  {
   "cell_type": "markdown",
   "metadata": {},
   "source": [
    "Run to convergence (tol = 1e-03). Record the number of steps required (and visually check the solution).\n",
    "* Start with $\\omega = 1$. What should you get?\n",
    "* Change $\\omega$ and try to get faster convergence? Who can get it to converge in the fewest number of steps?"
   ]
  },
  {
   "cell_type": "code",
   "execution_count": 15,
   "metadata": {},
   "outputs": [
    {
     "name": "stderr",
     "output_type": "stream",
     "text": [
      " 38%|█████████████████████▋                                   | 3796/10000 [00:00<00:00, 9308.86it/s]"
     ]
    },
    {
     "name": "stdout",
     "output_type": "stream",
     "text": [
      "SOR converged in 3797 iterations to 0.0009987117944452034\n"
     ]
    },
    {
     "name": "stderr",
     "output_type": "stream",
     "text": [
      "\n"
     ]
    }
   ],
   "source": [
    "Max_iter=10000\n",
    "tol = 1e-3\n",
    "Nmax = 100\n",
    "omega = 1.99\n",
    "\n",
    "Phi = np.zeros((Nmax, Nmax), dtype=np.float64)\n",
    "Phi_old = np.zeros_like(Phi)\n",
    "residual = np.zeros_like(Phi)\n",
    "\n",
    "# initialize boundaries\n",
    "# everything starts out zero so nothing special for the grounded wires\n",
    "Phi[0, :] = 100     # wire at x=0 at 100 V\n",
    "\n",
    "for n_iter in tqdm(range(Max_iter)):\n",
    "    Phi_old[:, :] = Phi\n",
    "    Phi = Laplace_Gauss_Seidel_odd_even(Phi)\n",
    "    residual[:, :] = Phi - Phi_old\n",
    "    DeltaPhi = np.linalg.norm(residual)\n",
    "    if DeltaPhi < tol:\n",
    "        print(\"SOR converged in {0} iterations to {1}\".format(n_iter+1, DeltaPhi))\n",
    "        break\n",
    "    # SOR\n",
    "    Phi[:, :] = Phi_old + omega*residual  # = omega*Phi + (1-omega)*Phi_old\n",
    "else:\n",
    "    print(\"SOR did NOT converge in {0} iterations, DeltaPhi={1}\".format(n_iter+1, DeltaPhi))\n"
   ]
  },
  {
   "cell_type": "code",
   "execution_count": 30,
   "metadata": {},
   "outputs": [],
   "source": [
    "#plot_surf(Phi);"
   ]
  },
  {
   "cell_type": "markdown",
   "metadata": {
    "slideshow": {
     "slide_type": "subslide"
    }
   },
   "source": [
    "## Simple example of Poisson's equation: Wire and charge\n",
    "Add a positive charge and a negative charge in the box.\n",
    "\n",
    "Now we need to solve **Poisson's equation**.\n",
    "\n",
    "$$\n",
    "\\nabla^2 \\Phi(x, y, z) = -4\\pi\\rho(x, y, z)\\\\\n",
    "$$"
   ]
  },
  {
   "cell_type": "markdown",
   "metadata": {},
   "source": [
    "Finite difference solution:\n",
    "$$\n",
    "\\Phi_{i,j} = \\frac{1}{4}\\Big(\\Phi_{i+1,j} + \\Phi_{i-1,j} + \\Phi_{i,j+1} + \\Phi_{i,j-1}\\Big)\n",
    "     + \\pi\\rho_{i,j} \\Delta^2\n",
    "$$"
   ]
  },
  {
   "cell_type": "markdown",
   "metadata": {},
   "source": [
    "### Poisson Solver \n",
    "Modify the Laplace solvers to now solve Poisson's equation:"
   ]
  },
  {
   "cell_type": "code",
   "execution_count": 32,
   "metadata": {},
   "outputs": [],
   "source": [
    "import numpy as np\n",
    "\n",
    "def Poisson_Jacobi(Phi, rho, Delta=1.):\n",
    "    \"\"\"One update in the Jacobi algorithm for Poisson's equation\"\"\"    \n",
    "    Phi[1:-1, 1:-1] = 0.25*(Phi[2:, 1:-1] + Phi[0:-2, 1:-1] + Phi[1:-1, 2:] + Phi[1:-1, 0:-2]) \\\n",
    "                      + np.pi * Delta**2 * rho[1:-1, 1:-1]\n",
    "    return Phi\n",
    "\n",
    "def Poisson_Gauss_Seidel(Phi, rho, Delta=1.):                   #Changed for 1D\n",
    "    \"\"\"One update in the Gauss-Seidel algorithm for Poisson's equation\"\"\"    \n",
    "    Nx, = Phi.shape\n",
    "    for xi in range(1, Nx-1):\n",
    "        \n",
    "        Phi[xi] = 0.5*(Phi[xi+1] + Phi[xi-1]) \\\n",
    "                        + np.pi * Delta**2 * rho[xi]\n",
    "    return Phi\n",
    "\n",
    "def Poisson_Gauss_Seidel_odd_even(Phi, rho, Delta=1.):\n",
    "    \"\"\"One update in the Gauss-Seidel algorithm on odd or even fields\"\"\"\n",
    "    a = np.pi * Delta**2\n",
    "    # odd update (uses old even)\n",
    "    Phi[1:-2:2, 1:-2:2] = 0.25*(Phi[2::2, 1:-2:2] + Phi[0:-2:2, 1:-2:2] \n",
    "                                + Phi[1:-2:2, 2::2] + Phi[1:-2:2, 0:-2:2]) + a * rho[1:-2:2, 1:-2:2]\n",
    "    Phi[2:-1:2, 2:-1:2] = 0.25*(Phi[3::2, 2:-1:2] + Phi[1:-2:2, 2:-1:2] \n",
    "                                + Phi[2:-1:2, 3::2] + Phi[2:-1:2, 1:-2:2]) + a * rho[2:-1:2, 2:-1:2]\n",
    "    \n",
    "    # even update (uses new odd)\n",
    "    Phi[1:-2:2, 2:-1:2] = 0.25*(Phi[2::2, 2:-1:2] + Phi[0:-2:2, 2:-1:2] \n",
    "                                + Phi[1:-2:2, 3::2] + Phi[1:-2:2, 1:-1:2]) + a * rho[1:-2:2, 2:-1:2]\n",
    "    Phi[2:-1:2, 1:-2:2] = 0.25*(Phi[3::2, 1:-2:2] + Phi[1:-2:2, 1:-2:2] \n",
    "                                + Phi[2:-1:2, 2::2] + Phi[2:-1:2, 0:-2:2]) + a * rho[2:-1:2, 1:-2:2]\n",
    "    return Phi"
   ]
  },
  {
   "cell_type": "markdown",
   "metadata": {},
   "source": [
    "### Solve wire with dipole "
   ]
  },
  {
   "cell_type": "markdown",
   "metadata": {},
   "source": [
    "Solve the Poisson problem with SOR (as above), but now employing the Poisson solvers (we are using the fastest one that we have):"
   ]
  },
  {
   "cell_type": "code",
   "execution_count": 151,
   "metadata": {},
   "outputs": [
    {
     "data": {
      "image/png": "[encoded data removed]",
      "text/plain": [
       "<Figure size 432x288 with 1 Axes>"
      ]
     },
     "metadata": {
      "needs_background": "light"
     },
     "output_type": "display_data"
    },
    {
     "name": "stdout",
     "output_type": "stream",
     "text": [
      "-1.8850100000000003e-09 1.0414148094999999e-09\n"
     ]
    },
    {
     "name": "stderr",
     "output_type": "stream",
     "text": [
      "  0%|          | 0/10000 [00:00<?, ?it/s]"
     ]
    },
    {
     "name": "stdout",
     "output_type": "stream",
     "text": [
      "SOR converged in 1 iterations to 8.661821095379365e-07\n"
     ]
    },
    {
     "name": "stderr",
     "output_type": "stream",
     "text": [
      "\n"
     ]
    }
   ],
   "source": [
    "Nmax = 1000\n",
    "Max_iter = 10000\n",
    "#omega = 1.99\n",
    "omega = 1.5\n",
    "tol = 1e-1\n",
    "\n",
    "r_ebeam = 35 #micrometers - radius of electron beam\n",
    "r_dtube = 28e3 #micrometers - radius of middle drift tube \n",
    "lambe = -1.88501*10**(-9) #line charge density of e-beam @ 8keV and 100mA\n",
    "echarge = 1.60217663*10**(-19)\n",
    "\n",
    "Nion = 100000000\n",
    "Zion = 65\n",
    "\n",
    "Phi = np.zeros(Nmax, dtype=np.float64)\n",
    "Phi_old = np.zeros_like(Phi)\n",
    "rho = np.zeros_like(Phi)\n",
    "residual = np.zeros_like(Phi)\n",
    "# initialize boundaries\n",
    "# everything starts out zero so nothing special for the grounded wires\n",
    "Vd = 15e-7\n",
    "\n",
    "Phi[0] = Vd\n",
    "# Phi[Nmax-1] = Vd     # potential of drift tube at boundaries \n",
    "\n",
    "for i in range(Nmax):               #potential due to e-beam \n",
    "    val1 = i/Nmax \n",
    "    b1 = 0.5 - (r_ebeam/r_dtube) \n",
    "    b2 = 0.5 + (r_ebeam/r_dtube)\n",
    "    if val1 < b2 and val1 > b1:\n",
    "        rho[i] = lambe \n",
    "    else: \n",
    "        rho[i] = 0 \n",
    "\n",
    "Tc = 2*r_dtube * (1/Nmax) * np.sum(rho)\n",
    "\n",
    "# print(-Tc*0.70/(65*echarge))\n",
    "\n",
    "rho[350] = Nion*Zion*echarge \n",
    "xp = np.linspace(-Nmax/2, Nmax/2, num=Nmax)\n",
    "plt.figure()\n",
    "plt.title('Total charge: '+str(Tc)+' Coulombs')\n",
    "plt.plot(xp, rho)\n",
    "plt.show() \n",
    "\n",
    "\n",
    "\n",
    "\n",
    "print(np.min(rho), np.max(rho))\n",
    "\n",
    "Delta = 1.0\n",
    "\n",
    "for n_iter in tqdm(range(Max_iter)):\n",
    "    Phi_old[:] = Phi\n",
    "    Phi = Poisson_Gauss_Seidel(Phi, rho, Delta=Delta)\n",
    "    residual[:] = Phi - Phi_old\n",
    "    DeltaPhi = np.linalg.norm(residual)\n",
    "    if DeltaPhi < tol:\n",
    "        print(\"SOR converged in {0} iterations to {1}\".format(n_iter+1, DeltaPhi))\n",
    "        break\n",
    "    # SOR\n",
    "    Phi[:] = Phi_old + omega*residual # = omega*Phi + (1-omega)*Phi_old\n",
    "else:\n",
    "    print(\"SOR did NOT converge in {0} iterations, DeltaPhi={1}\".format(n_iter+1, DeltaPhi))\n",
    "\n",
    "    "
   ]
  },
  {
   "cell_type": "code",
   "execution_count": 152,
   "metadata": {},
   "outputs": [
    {
     "data": {
      "image/png": "[encoded data removed]",
      "text/plain": [
       "<Figure size 432x288 with 1 Axes>"
      ]
     },
     "metadata": {
      "needs_background": "light"
     },
     "output_type": "display_data"
    }
   ],
   "source": [
    "#plot_surf(Phi, elevation=40, azimuth=20);\n",
    "xp = np.linspace(-r_dtube, r_dtube, num=Nmax)\n",
    "\n",
    "plt.figure() \n",
    "plt.ylabel('Potential (V)')\n",
    "#plt.xlabel('Distance (arb)')\n",
    "plt.xlabel('Distance [micro-meters]')\n",
    "plt.plot(xp, Phi)\n",
    "plt.show()\n"
   ]
  },
  {
   "cell_type": "markdown",
   "metadata": {},
   "source": [
    "## Charge density \n",
    "Given a potential $\\Phi$, Poisson's equation gives the charge density:\n",
    "$$\n",
    "\\rho(\\mathbf{x}) = -\\frac{1}{4\\pi} \\nabla^2\\Phi(\\mathbf{x})\n",
    "$$"
   ]
  },
  {
   "cell_type": "markdown",
   "metadata": {},
   "source": [
    "Discretized Laplacian\n",
    "$$\n",
    "\\nabla^2 \\Phi \\approx \\frac{\\Phi(x+\\Delta x,y) + \\Phi(x-\\Delta x,y) +\\Phi(x,y+\\Delta y) +\\, \\Phi(x,y-\\Delta y) - 4\\Phi(x, y)}{\\Delta^2}\n",
    "$$"
   ]
  },
  {
   "cell_type": "markdown",
   "metadata": {},
   "source": [
    "### Laplacian in Python "
   ]
  },
  {
   "cell_type": "code",
   "execution_count": 21,
   "metadata": {},
   "outputs": [],
   "source": [
    "def laplacian2d(f, Delta=1):\n",
    "    \"\"\"Finite difference approximation of Del^2 f.\n",
    "        \n",
    "    Arguments\n",
    "    ---------\n",
    "    f : M x N matrix\n",
    "    Delta : float\n",
    "    \n",
    "    Returns\n",
    "    -------\n",
    "    M x N matrix, boundaries set to 0\n",
    "    \"\"\"\n",
    "    \n",
    "    L = np.zeros_like(f, dtype=np.float64)\n",
    "    L[1:-1, 1:-1] = f[2:, 1:-1] + f[:-2, 1:-1] + f[1:-1, 2:] + f[1:-1, :-2] - 4*f[1:-1, 1:-1]\n",
    "    return L/Delta**2\n",
    "\n",
    "def laplacian2dsimple(f, Delta=1):\n",
    "    L = np.zeros_like(f, dtype=np.float64)\n",
    "    for i in range(1, L.shape[0]-1):\n",
    "        for j in range(1, L.shape[1]-1):\n",
    "            L[i, j] = f[i+1, j] + f[i-1, j] + f[i, j+1] + f[i, j-1] - 4*f[i, j]            \n",
    "    return L/Delta**2"
   ]
  },
  {
   "cell_type": "markdown",
   "metadata": {},
   "source": [
    "#### Testing the implementation of Laplacian \n",
    "\n",
    "Making sure that our fancy numpy-version of the Laplacian is producing the same results as the naive implementation with Python loops:"
   ]
  },
  {
   "cell_type": "code",
   "execution_count": 22,
   "metadata": {},
   "outputs": [],
   "source": [
    "import numpy as np\n",
    "\n",
    "def test_laplacian2d():\n",
    "    ftest = np.random.random((200, 200))\n",
    "    assert np.allclose(laplacian2d(ftest), laplacian2dsimple(ftest))\n",
    "\n",
    "test_laplacian2d()"
   ]
  },
  {
   "cell_type": "markdown",
   "metadata": {},
   "source": [
    "The `test_laplacian2d()` function does _not_ raise `AssertionError` so the test passed."
   ]
  },
  {
   "cell_type": "markdown",
   "metadata": {},
   "source": [
    "### Charge density from potential"
   ]
  },
  {
   "cell_type": "markdown",
   "metadata": {},
   "source": [
    "Compute the charge density from the converged potential\n",
    "$$\n",
    "\\rho(x, y) = -\\frac{1}{4\\pi} \\nabla^2 \\Phi(x, y)\n",
    "$$"
   ]
  },
  {
   "cell_type": "code",
   "execution_count": 23,
   "metadata": {},
   "outputs": [],
   "source": [
    "rhox = - laplacian2d(Phi)/(4*np.pi)"
   ]
  },
  {
   "cell_type": "markdown",
   "metadata": {},
   "source": [
    "Does `rhox` show the charges of $+5$ and $-5$ that we introduced with the charge density $\\rho$?"
   ]
  },
  {
   "cell_type": "code",
   "execution_count": 24,
   "metadata": {},
   "outputs": [
    {
     "name": "stdout",
     "output_type": "stream",
     "text": [
      "-5.0000041867249845\n",
      "5.000000000000001\n"
     ]
    }
   ],
   "source": [
    "print(rhox.min())\n",
    "print(rhox.max())"
   ]
  },
  {
   "cell_type": "markdown",
   "metadata": {},
   "source": [
    "Indeed, the point charges are recovered from the potential."
   ]
  },
  {
   "cell_type": "markdown",
   "metadata": {},
   "source": [
    "Plot the charge density:"
   ]
  },
  {
   "cell_type": "code",
   "execution_count": 26,
   "metadata": {},
   "outputs": [
    {
     "data": {
      "image/png": "[encoded data removed]",
      "text/plain": [
       "<Figure size 360x288 with 2 Axes>"
      ]
     },
     "metadata": {
      "needs_background": "light"
     },
     "output_type": "display_data"
    }
   ],
   "source": [
    "plot_contour(rhox, zlabel=r\"charge density $\\rho$\");"
   ]
  },
  {
   "cell_type": "markdown",
   "metadata": {},
   "source": [
    "The position of the point charges are found correctly but the charge on the wire appear to be absent. This is expected because the Laplacian is not defined on the boundary. If you wanted to see the charge on the wire you would need to include it inside the integration domain and also assign a thickness (e.g., one or two grid cells)."
   ]
  },
  {
   "cell_type": "markdown",
   "metadata": {},
   "source": [
    "The 3D plot shows the \"point\" charges as spikes of the size of one grid cell:"
   ]
  },
  {
   "cell_type": "code",
   "execution_count": 27,
   "metadata": {
    "scrolled": true
   },
   "outputs": [
    {
     "data": {
      "image/png": "[encoded data removed]",
      "text/plain": [
       "<Figure size 432x288 with 2 Axes>"
      ]
     },
     "metadata": {
      "needs_background": "light"
     },
     "output_type": "display_data"
    }
   ],
   "source": [
    "plot_surf(rhox, zlabel=r\"charge density $\\rho$\", elevation=20, azimuth=20, offset=-3);"
   ]
  },
  {
   "cell_type": "markdown",
   "metadata": {},
   "source": [
    "The position of the point charges are found correctly but the charge on the wire appear to be absent. The problem is that the Laplacian is not defined on the boundary.\n",
    "\n",
    "Also, if the charges are only defined on a single grid cell then the 3D visualization is sometimes not able to show it correctly."
   ]
  },
  {
   "cell_type": "code",
   "execution_count": null,
   "metadata": {},
   "outputs": [],
   "source": []
  }
 ],
 "metadata": {
  "anaconda-cloud": {},
  "celltoolbar": "Slideshow",
  "kernelspec": {
   "display_name": "Python 3 (ipykernel)",
   "language": "python",
   "name": "python3"
  },
  "language_info": {
   "codemirror_mode": {
    "name": "ipython",
    "version": 3
   },
   "file_extension": ".py",
   "mimetype": "text/x-python",
   "name": "python",
   "nbconvert_exporter": "python",
   "pygments_lexer": "ipython3",
   "version": "3.9.0"
  }
 },
 "nbformat": 4,
 "nbformat_minor": 4
}
